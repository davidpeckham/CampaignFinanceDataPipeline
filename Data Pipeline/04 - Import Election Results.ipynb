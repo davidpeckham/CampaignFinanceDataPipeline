{
 "cells": [
  {
   "cell_type": "code",
   "execution_count": 1,
   "metadata": {},
   "outputs": [],
   "source": [
    "#pip install chardet"
   ]
  },
  {
   "cell_type": "code",
   "execution_count": 1,
   "metadata": {},
   "outputs": [],
   "source": [
    "import dj_database_url\n",
    "import psycopg2\n",
    "import psycopg2.extras\n",
    "import unidecode\n",
    "import requests\n",
    "import re"
   ]
  },
  {
   "cell_type": "code",
   "execution_count": 2,
   "metadata": {},
   "outputs": [],
   "source": [
    "import csv\n",
    "import os.path\n",
    "import urllib.request\n",
    "import zipfile\n",
    "#import chardet"
   ]
  },
  {
   "cell_type": "markdown",
   "metadata": {},
   "source": [
    "#!/usr/bin/python3.3\n",
    "\n",
    "links = open('election_results.txt', 'r')\n",
    "for link in links:\n",
    "    link = link.strip()\n",
    "    name = link.rsplit('/', 1)[-1]\n",
    "    filename = os.path.join('./data/election_results_zipfiles', name)\n",
    "\n",
    "    if not os.path.isfile(filename):\n",
    "        print('Downloading: ' + filename)\n",
    "        try:\n",
    "            urllib.request.urlretrieve(link, filename)\n",
    "            zip_file = zipfile.ZipFile(filename, 'r')\n",
    "            print('extracting %s' % filename)\n",
    "            zip_file_contents = zip_file.namelist()\n",
    "            for f in zip_file_contents:\n",
    "                if ('.txt' in f):\n",
    "                    zip_file.extract(f, path='./data/election_results' )\n",
    "            zip_file.close()\n",
    "        except Exception as inst:\n",
    "            print(inst)\n",
    "            print('  Encountered unknown error. Continuing.')"
   ]
  },
  {
   "cell_type": "markdown",
   "metadata": {},
   "source": [
    "directory = os.fsencode(\"./data/election_results/2018\")\n",
    "csv_directory = (\"./data/election_results/2018_csv/\")\n",
    "\n",
    "for filename in os.listdir(directory):\n",
    "    full_filename = os.path.join(directory, filename)\n",
    "    print(full_filename)\n",
    "    \n",
    "    csv_filename = filename.decode(\"utf-8\").split(\".\")\n",
    "    #print(csv_filename)\n",
    "    csv_filename = csv_directory + csv_filename[0] + '.csv'\n",
    "    #print(csv_filename)\n",
    "    print('converting tab-delimited raw file to csv...')\n",
    "    with open(full_filename, 'rU') as txt_file:\n",
    "        #result = chardet.detect(txt_file)\n",
    "        #charenc = result['encoding']\n",
    "        #print(charenc)\n",
    "        with open(csv_filename, \"w\", newline='') as myfile:\n",
    "            csv_writer = csv.writer(myfile, quoting=csv.QUOTE_ALL)\n",
    "            for line in txt_file:\n",
    "                if not all(ord(c) < 128 for c in line):\n",
    "                    line = unidecode.unidecode(line)\n",
    "                row = line.rstrip('\\t\\r\\n').split('\\t')\n",
    "                csv_writer.writerow(row)"
   ]
  },
  {
   "cell_type": "markdown",
   "metadata": {},
   "source": [
    "directory = os.fsencode(\"./data/election_results/2018\")\n",
    "csv_directory = \"./data/election_results/2018_csv/\"\n",
    "\n",
    "for filename in os.listdir(directory):\n",
    "    full_filename = os.path.join(directory, filename)\n",
    "    #print(full_filename)\n",
    "    csv_filename = filename.decode(\"utf-8\").split(\".\")\n",
    "    #print(csv_filename)\n",
    "    csv_filename = csv_directory + csv_filename[0] + '.csv'\n",
    "    print(csv_filename)\n",
    "    print('converting tab-delimited raw file to csv...')\n",
    "    with open(full_filename, 'rU') as txt_file, \\\n",
    "            open(csv_filename, 'w') as csv_file:\n",
    "        csv_writer = csv.writer(csv_file, quoting=csv.QUOTE_ALL)\n",
    "        for line in txt_file:\n",
    "            if not all(ord(c) < 128 for c in line):\n",
    "                line = unidecode.unidecode(line)\n",
    "            row = line.rstrip('\\t\\r\\n').split('\\t')\n",
    "            csv_writer.writerow(row)"
   ]
  },
  {
   "cell_type": "markdown",
   "metadata": {},
   "source": [
    "directory = os.fsencode(\"./data/election_results/2014\")\n",
    "csv_directory = \"./data/election_results/2014_csv/\"\n",
    "\n",
    "for filename in os.listdir(directory):\n",
    "    full_filename = os.path.join(directory, filename)\n",
    "    #print(full_filename)\n",
    "    csv_filename = filename.decode(\"utf-8\").split(\".\")\n",
    "    #print(csv_filename)\n",
    "    csv_filename = csv_directory + csv_filename[0] + '.csv'\n",
    "    print(csv_filename)\n",
    "    print('converting tab-delimited raw file to csv...')\n",
    "    with open(full_filename, 'rU') as txt_file, \\\n",
    "            open(csv_filename, 'w') as csv_file:\n",
    "        csv_writer = csv.writer(csv_file, quoting=csv.QUOTE_ALL)\n",
    "        for line in txt_file:\n",
    "            if not all(ord(c) < 128 for c in line):\n",
    "                line = unidecode.unidecode(line)\n",
    "            row = line.rstrip('\\t\\r\\n').split('\\t')\n",
    "            csv_writer.writerow(row)"
   ]
  },
  {
   "cell_type": "markdown",
   "metadata": {},
   "source": [
    "directory = os.fsencode(\"./data/election_results/2010\")\n",
    "csv_directory = \"./data/election_results/2010_csv/\"\n",
    "\n",
    "for filename in os.listdir(directory):\n",
    "    full_filename = os.path.join(directory, filename)\n",
    "    #print(full_filename)\n",
    "    csv_filename = filename.decode(\"utf-8\").split(\".\")\n",
    "    #print(csv_filename)\n",
    "    csv_filename = csv_directory + csv_filename[0] + '.csv'\n",
    "    print(csv_filename)\n",
    "    print('converting tab-delimited raw file to csv...')\n",
    "    with open(full_filename, 'rU') as txt_file, \\\n",
    "            open(csv_filename, 'w') as csv_file:\n",
    "        csv_writer = csv.writer(csv_file, quoting=csv.QUOTE_ALL)\n",
    "        for line in txt_file:\n",
    "            if not all(ord(c) < 128 for c in line):\n",
    "                line = unidecode.unidecode(line)\n",
    "            row = line.rstrip('\\t\\r\\n').split('\\t')\n",
    "            csv_writer.writerow(row)"
   ]
  },
  {
   "cell_type": "markdown",
   "metadata": {},
   "source": [
    "directory = os.fsencode(\"./data/election_results/2008\")\n",
    "csv_directory = \"./data/election_results/2008_csv/\"\n",
    "\n",
    "for filename in os.listdir(directory):\n",
    "    full_filename = os.path.join(directory, filename)\n",
    "    #print(full_filename)\n",
    "    csv_filename = filename.decode(\"utf-8\").split(\".\")\n",
    "    #print(csv_filename)\n",
    "    csv_filename = csv_directory + csv_filename[0] + '.csv'\n",
    "    print(csv_filename)\n",
    "    print('converting tab-delimited raw file to csv...')\n",
    "    with open(full_filename, 'rU') as txt_file, \\\n",
    "            open(csv_filename, 'w') as csv_file:\n",
    "        csv_writer = csv.writer(csv_file, quoting=csv.QUOTE_ALL)\n",
    "        for line in txt_file:\n",
    "            if not all(ord(c) < 128 for c in line):\n",
    "                line = unidecode.unidecode(line)\n",
    "            row = line.rstrip('\\t\\r\\n').split('\\t')\n",
    "            csv_writer.writerow(row)"
   ]
  },
  {
   "cell_type": "markdown",
   "metadata": {},
   "source": [
    "directory = os.fsencode(\"./data/election_results/2007\")\n",
    "csv_directory = \"./data/election_results/2007_csv/\"\n",
    "\n",
    "for filename in os.listdir(directory):\n",
    "    full_filename = os.path.join(directory, filename)\n",
    "    #print(full_filename)\n",
    "    csv_filename = filename.decode(\"utf-8\").split(\".\")\n",
    "    #print(csv_filename)\n",
    "    csv_filename = csv_directory + csv_filename[0] + '.csv'\n",
    "    print(csv_filename)\n",
    "    print('converting tab-delimited raw file to csv...')\n",
    "    with open(full_filename, 'rU') as txt_file, \\\n",
    "            open(csv_filename, 'w') as csv_file:\n",
    "        csv_writer = csv.writer(csv_file, quoting=csv.QUOTE_ALL)\n",
    "        for line in txt_file:\n",
    "            if not all(ord(c) < 128 for c in line):\n",
    "                line = unidecode.unidecode(line)\n",
    "            row = line.rstrip('\\t\\r\\n').split('\\t')\n",
    "            csv_writer.writerow(row)"
   ]
  },
  {
   "cell_type": "markdown",
   "metadata": {},
   "source": [
    "directory = os.fsencode(\"./data/election_results/2000\")\n",
    "csv_directory = \"./data/election_results/2000_csv/\"\n",
    "\n",
    "for filename in os.listdir(directory):\n",
    "    full_filename = os.path.join(directory, filename)\n",
    "    #print(full_filename)\n",
    "    csv_filename = filename.decode(\"utf-8\").split(\".\")\n",
    "    #print(csv_filename)\n",
    "    csv_filename = csv_directory + csv_filename[0] + '.csv'\n",
    "    print(csv_filename)\n",
    "    print('converting tab-delimited raw file to csv...')\n",
    "    with open(full_filename, 'rU') as txt_file, \\\n",
    "            open(csv_filename, 'w') as csv_file:\n",
    "        csv_writer = csv.writer(csv_file, quoting=csv.QUOTE_ALL)\n",
    "        for line in txt_file:\n",
    "            if not all(ord(c) < 128 for c in line):\n",
    "                line = unidecode.unidecode(line)\n",
    "            row = line.rstrip('\\t\\r\\n').split('\\t')\n",
    "            csv_writer.writerow(row)"
   ]
  },
  {
   "cell_type": "code",
   "execution_count": 3,
   "metadata": {},
   "outputs": [],
   "source": [
    "conn = psycopg2.connect(database=\"campaign-finance\",\n",
    "                        user=\"postgres\",\n",
    "                       password=\"\",\n",
    "                        host=\"172.16.238.13\",\n",
    "                        port=\"5432\")\n",
    "c = conn.cursor()"
   ]
  },
  {
   "cell_type": "code",
   "execution_count": 4,
   "metadata": {},
   "outputs": [
    {
     "name": "stdout",
     "output_type": "stream",
     "text": [
      "Creating election_results table\n",
      "Done.\n"
     ]
    }
   ],
   "source": [
    "print(\"Creating election_results table\")\n",
    "c.execute(\"CREATE TABLE public.election_results \"\n",
    "          \"(county character varying(200), \"\n",
    "          \" election_date character varying(200), \"\n",
    "          \" precinct_abbr character varying(200), \"\n",
    "          \" precinct character varying(200), \"\n",
    "          \" contest_group_id character varying(200), \"\n",
    "          \" contest_type character varying(200), \"\n",
    "          \" contest_name character varying(200), \"\n",
    "          \" choice character varying(200), \"\n",
    "          \" choice_party character varying(200), \"\n",
    "          \" vote_for character varying(200), \"\n",
    "          \" election_day character varying(200), \"\n",
    "          \" one_stop character varying(200), \"\n",
    "          \" absentee_by_mail character varying(200), \"\n",
    "          \" provisional character varying(200), \"\n",
    "          \" total_votes character varying(200), \"\n",
    "          \" real_precinct character varying(200), \"\n",
    "          \" runoff_status character varying(200), \"\n",
    "          \" recount_status character varying(200), \"\n",
    "          \" winner_status character varying(200), \"\n",
    "          \" district character varying(200), \"\n",
    "          \" ftp_date character varying(200) )\")\n",
    "conn.commit()\n",
    "print(\"Done.\")"
   ]
  },
  {
   "cell_type": "code",
   "execution_count": 5,
   "metadata": {},
   "outputs": [],
   "source": [
    "conn.commit()"
   ]
  },
  {
   "cell_type": "code",
   "execution_count": 6,
   "metadata": {
    "scrolled": true
   },
   "outputs": [
    {
     "name": "stdout",
     "output_type": "stream",
     "text": [
      "b'./data/election_results/2018_csv/results_pct_20181106.csv'\n"
     ]
    },
    {
     "name": "stderr",
     "output_type": "stream",
     "text": [
      "<ipython-input-6-d96a69890c8a>:6: DeprecationWarning: 'U' mode is deprecated\n",
      "  with open(full_filename, 'rU') as csv_file:\n"
     ]
    },
    {
     "name": "stdout",
     "output_type": "stream",
     "text": [
      "b'./data/election_results/2018_csv/results_pct_20190430.csv'\n",
      "b'./data/election_results/2018_csv/results_pct_20190514.csv'\n",
      "b'./data/election_results/2018_csv/results_pct_20190709.csv'\n",
      "b'./data/election_results/2018_csv/results_pct_20190910.csv'\n",
      "b'./data/election_results/2018_csv/results_pct_20191008.csv'\n",
      "b'./data/election_results/2018_csv/results_pct_20191105.csv'\n",
      "b'./data/election_results/2018_csv/results_pct_20200303.csv'\n",
      "b'./data/election_results/2018_csv/results_pct_20200623.csv'\n",
      "b'./data/election_results/2018_csv/results_pct_20201103.csv'\n",
      "Done.\n"
     ]
    }
   ],
   "source": [
    "directory = os.fsencode(\"./data/election_results/2018_csv\")\n",
    "    \n",
    "for filename in os.listdir(directory):\n",
    "    full_filename = os.path.join(directory, filename)\n",
    "    print(full_filename)\n",
    "    with open(full_filename, 'rU') as csv_file: \n",
    "        c.copy_expert(\"COPY election_results \" \n",
    "                      \"(county, election_date, precinct, contest_group_id, contest_type, \" \n",
    "                      \" contest_name, choice, choice_party, vote_for, \" \n",
    "                      \" election_day, one_stop, absentee_by_mail, \" \n",
    "                      \" provisional, total_votes, real_precinct) \" \n",
    "                      \"FROM STDIN CSV HEADER \", csv_file)\n",
    "\n",
    "    conn.commit()\n",
    "\n",
    "print(\"Done.\")"
   ]
  },
  {
   "cell_type": "markdown",
   "metadata": {},
   "source": [
    "directory = os.fsencode(\"./data/election_results/2018_csv2\")\n",
    "    \n",
    "for filename in os.listdir(directory):\n",
    "    full_filename = os.path.join(directory, filename)\n",
    "    print(full_filename)\n",
    "    with open(full_filename, 'rU') as csv_file: \n",
    "        c.copy_expert(\"COPY election_results \" \n",
    "                      \"(county, election_date, precinct, contest_group_id, contest_type, \" \n",
    "                      \" contest_name, choice, choice_party, vote_for, \" \n",
    "                      \" election_day, one_stop, absentee_by_mail, \" \n",
    "                      \" provisional, total_votes) \" \n",
    "                      \"FROM STDIN CSV HEADER \", csv_file)\n",
    "\n",
    "    conn.commit()\n",
    "\n",
    "print(\"Done.\")"
   ]
  },
  {
   "cell_type": "code",
   "execution_count": 7,
   "metadata": {},
   "outputs": [
    {
     "name": "stdout",
     "output_type": "stream",
     "text": [
      "b'./data/election_results/2014_csv/results_pct_20140506.csv'\n"
     ]
    },
    {
     "name": "stderr",
     "output_type": "stream",
     "text": [
      "<ipython-input-7-5dfa07d0e095>:6: DeprecationWarning: 'U' mode is deprecated\n",
      "  with open(full_filename, 'rU') as csv_file:\n"
     ]
    },
    {
     "name": "stdout",
     "output_type": "stream",
     "text": [
      "b'./data/election_results/2014_csv/results_pct_20140715.csv'\n",
      "b'./data/election_results/2014_csv/results_pct_20141104.csv'\n",
      "b'./data/election_results/2014_csv/results_pct_20150915.csv'\n",
      "b'./data/election_results/2014_csv/results_pct_20151006.csv'\n",
      "b'./data/election_results/2014_csv/results_pct_20151103.csv'\n",
      "b'./data/election_results/2014_csv/results_pct_20160315.csv'\n",
      "b'./data/election_results/2014_csv/results_pct_20160607.csv'\n",
      "b'./data/election_results/2014_csv/results_pct_20161108.csv'\n",
      "b'./data/election_results/2014_csv/results_pct_20170912.csv'\n",
      "b'./data/election_results/2014_csv/results_pct_20171010.csv'\n",
      "b'./data/election_results/2014_csv/results_pct_20171107.csv'\n",
      "b'./data/election_results/2014_csv/results_pct_20180508.csv'\n",
      "b'./data/election_results/2014_csv/results_pct_20180626.csv'\n",
      "Done.\n"
     ]
    }
   ],
   "source": [
    "directory = os.fsencode(\"./data/election_results/2014_csv\")\n",
    "    \n",
    "for filename in os.listdir(directory):\n",
    "    full_filename = os.path.join(directory, filename)\n",
    "    print(full_filename)\n",
    "    with open(full_filename, 'rU') as csv_file: \n",
    "        c.copy_expert(\"COPY election_results \" \n",
    "                      \"(county, election_date, precinct, contest_group_id, contest_type, \" \n",
    "                      \" contest_name, choice, choice_party, vote_for, \" \n",
    "                      \" election_day, one_stop, absentee_by_mail, \" \n",
    "                      \" provisional, total_votes) \" \n",
    "                      \"FROM STDIN CSV HEADER \", csv_file)\n",
    "\n",
    "    conn.commit()\n",
    "\n",
    "print(\"Done.\")"
   ]
  },
  {
   "cell_type": "code",
   "execution_count": 8,
   "metadata": {},
   "outputs": [],
   "source": [
    "conn.commit()"
   ]
  },
  {
   "cell_type": "code",
   "execution_count": 9,
   "metadata": {},
   "outputs": [],
   "source": [
    "from datetime import date"
   ]
  },
  {
   "cell_type": "code",
   "execution_count": 10,
   "metadata": {
    "scrolled": true
   },
   "outputs": [
    {
     "name": "stdout",
     "output_type": "stream",
     "text": [
      "b'./data/election_results/2010_csv/results_pct_20100504.csv'\n"
     ]
    },
    {
     "name": "stderr",
     "output_type": "stream",
     "text": [
      "<ipython-input-10-16ef421cee40>:11: DeprecationWarning: 'U' mode is deprecated\n",
      "  with open(full_filename, 'rU') as csv_file:\n"
     ]
    },
    {
     "name": "stdout",
     "output_type": "stream",
     "text": [
      "b'./data/election_results/2010_csv/results_pct_20100622.csv'\n",
      "b'./data/election_results/2010_csv/results_pct_20101102.csv'\n",
      "b'./data/election_results/2010_csv/results_pct_20110913.csv'\n",
      "b'./data/election_results/2010_csv/results_pct_20111011.csv'\n",
      "b'./data/election_results/2010_csv/results_pct_20111108.csv'\n",
      "b'./data/election_results/2010_csv/results_pct_20120508.csv'\n",
      "b'./data/election_results/2010_csv/results_pct_20120717.csv'\n",
      "b'./data/election_results/2010_csv/results_pct_20121106.csv'\n",
      "b'./data/election_results/2010_csv/results_pct_20130910.csv'\n",
      "b'./data/election_results/2010_csv/results_pct_20131008.csv'\n",
      "Done.\n"
     ]
    }
   ],
   "source": [
    "directory = os.fsencode(\"./data/election_results/2010_csv\")\n",
    "sql = \"\"\"UPDATE election_results set election_date = %s WHERE election_date IS NULL \"\"\"\n",
    "dummy = 'NULL'\n",
    "    \n",
    "for filename in os.listdir(directory):\n",
    "    full_filename = os.path.join(directory, filename)\n",
    "    election_date = str(full_filename[-12:-4])\n",
    "    election_date = date(int(election_date[2:6]), int(election_date[6:8]), int(election_date[8:10]))\n",
    "    print(full_filename)\n",
    "    #print(election_date)\n",
    "    with open(full_filename, 'rU') as csv_file: \n",
    "        c.copy_expert(\"COPY election_results \" \n",
    "                      \"(county, precinct, contest_type, \" \n",
    "                      \" runoff_status, recount_status, \"\n",
    "                      \" contest_name, choice, winner_status, \"\n",
    "                      \" choice_party, election_day, one_stop, absentee_by_mail, \" \n",
    "                      \" provisional, total_votes, district) \"\n",
    "                      \"FROM STDIN CSV HEADER \", csv_file)\n",
    "        conn.commit()\n",
    "        #print(\"inserted\") \n",
    "    c.execute(sql, (election_date, ))\n",
    "    #count = self.c.rowcount()\n",
    "    conn.commit()\n",
    "print(\"Done.\")"
   ]
  },
  {
   "cell_type": "code",
   "execution_count": 11,
   "metadata": {},
   "outputs": [
    {
     "name": "stdout",
     "output_type": "stream",
     "text": [
      "b'./data/election_results/2008_csv/results_pct_20080506.csv'\n"
     ]
    },
    {
     "name": "stderr",
     "output_type": "stream",
     "text": [
      "<ipython-input-11-7a8edd9d6893>:11: DeprecationWarning: 'U' mode is deprecated\n",
      "  with open(full_filename, 'rU') as csv_file:\n"
     ]
    },
    {
     "name": "stdout",
     "output_type": "stream",
     "text": [
      "Done.\n"
     ]
    }
   ],
   "source": [
    "directory = os.fsencode(\"./data/election_results/2008_csv\")\n",
    "#sql = \"\"\"UPDATE election_results set election_date = %s WHERE election_date IS NULL \"\"\"\n",
    "#dummy = 'NULL'\n",
    "    \n",
    "for filename in os.listdir(directory):\n",
    "    full_filename = os.path.join(directory, filename)\n",
    " #   election_date = str(full_filename[-12:-4])\n",
    " #   election_date = date(int(election_date[2:6]), int(election_date[6:8]), int(election_date[8:10]))\n",
    "    print(full_filename)\n",
    "    #print(election_date)\n",
    "    with open(full_filename, 'rU') as csv_file: \n",
    "        c.copy_expert(\"COPY election_results \" \n",
    "                      \"(county, election_date, precinct, \" \n",
    "                      \" contest_name, choice, \"\n",
    "                      \" choice_party, election_day, absentee_by_mail, \" \n",
    "                      \" provisional, total_votes) \"\n",
    "                      \"FROM STDIN CSV HEADER \", csv_file)\n",
    "        conn.commit()\n",
    "        #print(\"inserted\") \n",
    "    #c.execute(sql, (election_date, ))\n",
    "    #count = self.c.rowcount()\n",
    "    #conn.commit()\n",
    "print(\"Done.\")"
   ]
  },
  {
   "cell_type": "code",
   "execution_count": 12,
   "metadata": {},
   "outputs": [
    {
     "name": "stdout",
     "output_type": "stream",
     "text": [
      "b'./data/election_results/2008_csv2/results_pct_20081104.csv'\n"
     ]
    },
    {
     "name": "stderr",
     "output_type": "stream",
     "text": [
      "<ipython-input-12-bb9e9dd26fca>:11: DeprecationWarning: 'U' mode is deprecated\n",
      "  with open(full_filename, 'rU') as csv_file:\n"
     ]
    },
    {
     "name": "stdout",
     "output_type": "stream",
     "text": [
      "Done.\n"
     ]
    }
   ],
   "source": [
    "directory = os.fsencode(\"./data/election_results/2008_csv2\")\n",
    "sql = \"\"\"UPDATE election_results set election_date = %s WHERE election_date IS NULL \"\"\"\n",
    "dummy = 'NULL'\n",
    "    \n",
    "for filename in os.listdir(directory):\n",
    "    full_filename = os.path.join(directory, filename)\n",
    "    election_date = str(full_filename[-12:-4])\n",
    "    election_date = date(int(election_date[2:6]), int(election_date[6:8]), int(election_date[8:10]))\n",
    "    print(full_filename)\n",
    "    #print(election_date)\n",
    "    with open(full_filename, 'rU') as csv_file: \n",
    "        c.copy_expert(\"COPY election_results \" \n",
    "                      \"(county, precinct, contest_type, \" \n",
    "                      \" runoff_status, recount_status, \"\n",
    "                      \" contest_name, choice, winner_status, \"\n",
    "                      \" choice_party, election_day, absentee_by_mail, \" \n",
    "                      \" provisional, total_votes, district) \"\n",
    "                      \"FROM STDIN CSV HEADER \", csv_file)\n",
    "        conn.commit()\n",
    "        #print(\"inserted\") \n",
    "    c.execute(sql, (election_date, ))\n",
    "    #count = self.c.rowcount()\n",
    "    conn.commit()\n",
    "print(\"Done.\")"
   ]
  },
  {
   "cell_type": "code",
   "execution_count": 13,
   "metadata": {},
   "outputs": [
    {
     "name": "stdout",
     "output_type": "stream",
     "text": [
      "b'./data/election_results/2000_csv/results_pct_20001107.csv'\n"
     ]
    },
    {
     "name": "stderr",
     "output_type": "stream",
     "text": [
      "<ipython-input-13-3e7213b51c50>:11: DeprecationWarning: 'U' mode is deprecated\n",
      "  with open(full_filename, 'rU') as csv_file:\n"
     ]
    },
    {
     "name": "stdout",
     "output_type": "stream",
     "text": [
      "b'./data/election_results/2000_csv/results_pct_20020910.csv'\n",
      "b'./data/election_results/2000_csv/results_pct_20021105.csv'\n",
      "b'./data/election_results/2000_csv/results_pct_20040720.csv'\n",
      "b'./data/election_results/2000_csv/results_pct_20040817.csv'\n",
      "b'./data/election_results/2000_csv/results_pct_20041102.csv'\n",
      "b'./data/election_results/2000_csv/results_pct_20060502.csv'\n",
      "b'./data/election_results/2000_csv/results_pct_20060530.csv'\n",
      "b'./data/election_results/2000_csv/results_pct_20060912.csv'\n",
      "b'./data/election_results/2000_csv/results_pct_20061107.csv'\n",
      "Done.\n"
     ]
    }
   ],
   "source": [
    "directory = os.fsencode(\"./data/election_results/2000_csv\")\n",
    "#sql = \"\"\"UPDATE election_results set election_date = %s WHERE election_date IS NULL \"\"\"\n",
    "#dummy = 'NULL'\n",
    "    \n",
    "for filename in os.listdir(directory):\n",
    "    full_filename = os.path.join(directory, filename)\n",
    " #   election_date = str(full_filename[-12:-4])\n",
    " #   election_date = date(int(election_date[2:6]), int(election_date[6:8]), int(election_date[8:10]))\n",
    "    print(full_filename)\n",
    "    #print(election_date)\n",
    "    with open(full_filename, 'rU') as csv_file: \n",
    "        c.copy_expert(\"COPY election_results \" \n",
    "                      \"(county, election_date, precinct_abbr, precinct, \" \n",
    "                      \" contest_name, choice, \"\n",
    "                      \" choice_party, total_votes, ftp_date) \"\n",
    "                      \"FROM STDIN CSV HEADER \", csv_file)\n",
    "        conn.commit()\n",
    "        #print(\"inserted\") \n",
    "    #c.execute(sql, (election_date, ))\n",
    "    #count = self.c.rowcount()\n",
    "    #conn.commit()\n",
    "print(\"Done.\")"
   ]
  },
  {
   "cell_type": "code",
   "execution_count": null,
   "metadata": {},
   "outputs": [],
   "source": []
  }
 ],
 "metadata": {
  "kernelspec": {
   "display_name": "Python 3",
   "language": "python",
   "name": "python3"
  },
  "language_info": {
   "codemirror_mode": {
    "name": "ipython",
    "version": 3
   },
   "file_extension": ".py",
   "mimetype": "text/x-python",
   "name": "python",
   "nbconvert_exporter": "python",
   "pygments_lexer": "ipython3",
   "version": "3.8.5"
  }
 },
 "nbformat": 4,
 "nbformat_minor": 4
}
