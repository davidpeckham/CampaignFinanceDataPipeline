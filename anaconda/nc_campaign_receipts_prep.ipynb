{
 "cells": [
  {
   "cell_type": "code",
   "execution_count": 1,
   "metadata": {
    "scrolled": true
   },
   "outputs": [
    {
     "name": "stdout",
     "output_type": "stream",
     "text": [
      "Requirement already satisfied: unidecode in /opt/conda/lib/python3.8/site-packages (1.1.1)\n",
      "Note: you may need to restart the kernel to use updated packages.\n"
     ]
    }
   ],
   "source": [
    "pip install unidecode"
   ]
  },
  {
   "cell_type": "code",
   "execution_count": 2,
   "metadata": {},
   "outputs": [
    {
     "name": "stdout",
     "output_type": "stream",
     "text": [
      "Requirement already satisfied: dj_database_url in /opt/conda/lib/python3.8/site-packages (0.5.0)\n",
      "Note: you may need to restart the kernel to use updated packages.\n"
     ]
    }
   ],
   "source": [
    "pip install dj_database_url"
   ]
  },
  {
   "cell_type": "code",
   "execution_count": 3,
   "metadata": {},
   "outputs": [
    {
     "name": "stdout",
     "output_type": "stream",
     "text": [
      "Requirement already satisfied: psycopg2-binary in /opt/conda/lib/python3.8/site-packages (2.8.6)\n",
      "Note: you may need to restart the kernel to use updated packages.\n"
     ]
    }
   ],
   "source": [
    "pip install psycopg2-binary"
   ]
  },
  {
   "cell_type": "code",
   "execution_count": 4,
   "metadata": {},
   "outputs": [],
   "source": [
    "import csv\n",
    "import os\n",
    "import zipfile\n",
    "\n",
    "import dj_database_url\n",
    "import psycopg2\n",
    "import psycopg2.extras\n",
    "import unidecode\n",
    "import requests\n"
   ]
  },
  {
   "cell_type": "code",
   "execution_count": 5,
   "metadata": {},
   "outputs": [],
   "source": [
    "_file = 'receipts-20200101-20200701'\n",
    "contributions_zip_file = _file + '.txt.zip'\n",
    "contributions_txt_file = _file + '.txt'\n",
    "contributions_csv_file = _file + '.csv'"
   ]
  },
  {
   "cell_type": "markdown",
   "metadata": {},
   "source": [
    "_file = 'receipts-20200101-20200701'\n",
    "contributions_zip_file = _file + '.txt.zip'\n",
    "contributions_txt_file = _file + '.txt'\n",
    "contributions_csv_file = _file + '.csv'\n",
    "\n",
    "if not os.path.exists(contributions_zip_file):\n",
    "    print('downloading', contributions_zip_file, '(~60mb) ...')\n",
    "    u = requests.get(\n",
    "        'https://s3.amazonaws.com/dedupe-data/Illinois-campaign-contributions.txt.zip')\n",
    "    localFile = open(contributions_zip_file, 'wb')\n",
    "    localFile.write(u.content)\n",
    "    localFile.close()"
   ]
  },
  {
   "cell_type": "markdown",
   "metadata": {},
   "source": [
    "if not os.path.exists(contributions_txt_file):\n",
    "    zip_file = zipfile.ZipFile(contributions_zip_file, 'r')\n",
    "    print('extracting %s' % contributions_zip_file)\n",
    "    zip_file_contents = zip_file.namelist()\n",
    "    for f in zip_file_contents:\n",
    "        if ('.txt' in f):\n",
    "            zip_file.extract(f)\n",
    "    zip_file.close()"
   ]
  },
  {
   "cell_type": "markdown",
   "metadata": {},
   "source": [
    "# Create a cleaned up CSV version of file with consistent row lengths.\n",
    "# Postgres COPY doesn't handle \"ragged\" files very well\n",
    "if not os.path.exists(contributions_csv_file):\n",
    "    print('converting tab-delimited raw file to csv...')\n",
    "    with open(contributions_txt_file, 'rU') as txt_file, \\\n",
    "            open(contributions_csv_file, 'w') as csv_file:\n",
    "        csv_writer = csv.writer(csv_file, quoting=csv.QUOTE_ALL)\n",
    "        for line in txt_file:\n",
    "            if not all(ord(c) < 128 for c in line):\n",
    "                line = unidecode.unidecode(line)\n",
    "            row = line.rstrip('\\t\\r\\n').split('\\t')\n",
    "            if len(row) != 29:\n",
    "                print('skipping bad row (length %s, expected 29):' % len(row))\n",
    "                print(row)\n",
    "                continue\n",
    "            csv_writer.writerow(row)"
   ]
  },
  {
   "cell_type": "code",
   "execution_count": 6,
   "metadata": {},
   "outputs": [],
   "source": [
    "conn = psycopg2.connect(database=\"campaign-finance\",\n",
    "                        user=\"postgres\",\n",
    "                        password=\"\",\n",
    "                        host=\"172.16.238.13\",\n",
    "                        port=\"5432\")\n",
    "c = conn.cursor()"
   ]
  },
  {
   "cell_type": "code",
   "execution_count": 7,
   "metadata": {},
   "outputs": [
    {
     "name": "stdout",
     "output_type": "stream",
     "text": [
      "importing raw data from csv...\n"
     ]
    }
   ],
   "source": [
    "print('importing raw data from csv...')\n",
    "c.execute(\"DROP TABLE IF EXISTS donors\")\n",
    "c.execute(\"DROP TABLE IF EXISTS recipients\")\n",
    "c.execute(\"DROP TABLE IF EXISTS contributions\")\n",
    "c.execute(\"DROP TABLE IF EXISTS processed_donors\")"
   ]
  },
  {
   "cell_type": "code",
   "execution_count": 8,
   "metadata": {},
   "outputs": [],
   "source": [
    "conn.commit()"
   ]
  },
  {
   "cell_type": "markdown",
   "metadata": {},
   "source": [
    "c.execute(\"CREATE TABLE raw_table \"\n",
    "          \"(receipt_id INT GENERATED BY DEFAULT AS IDENTITY, name VARCHAR(200), \"\n",
    "          \" street_line_1 VARCHAR(200), street_line_2 VARCHAR(200), city VARCHAR(200), \"\n",
    "          \" state VARCHAR(15), zip_code VARCHAR(11), \"\n",
    "          \" occupation VARCHAR(200), employer VARCHAR(200), \"\n",
    "          \" committee_name VARCHAR(200), committee_sboe_id VARCHAR(200), \"\n",
    "          \" committee_street_1 VARCHAR(200), committee_street_2 VARCHAR(200), \"\n",
    "          \" committee_city VARCHAR(200), committee_state VARCHAR(10), \"\n",
    "          \" committee_zip VARCHAR(20), report_name VARCHAR(90), \"\n",
    "          \" report_date VARCHAR(20), account_code VARCHAR(200), \"\n",
    "          \" amount VARCHAR(200), form_of_payment VARCHAR(200), \"\n",
    "          \" purpose VARCHAR(500), candidate_ref_name VARCHAR(200), \"\n",
    "          \" declaration VARCHAR(200) )\")\n",
    "\n",
    "conn.commit()"
   ]
  },
  {
   "cell_type": "markdown",
   "metadata": {},
   "source": [
    "with open(contributions_csv_file, 'rU') as csv_file:\n",
    "    c.copy_expert(\"COPY raw_table \"\n",
    "                  \"(name,  \"\n",
    "                  \" street_line_1, street_line_2, city, state, \"\n",
    "                  \" zip_code, occupation, employer, \"\n",
    "                  \" committee_name, committee_sboe_id, committee_street_1, \"\n",
    "                  \" committee_street_2, committee_city, committee_state, \"\n",
    "                  \" committee_zip, report_name,report_date, \"\n",
    "                  \" account_code, \"\n",
    "                  \" amount, form_of_payment, \"\n",
    "                  \" purpose, candidate_ref_name,\"\n",
    "                  \" declaration) \"\n",
    "                  \"FROM STDIN CSV HEADER\", csv_file)\n",
    "\n",
    "conn.commit()"
   ]
  },
  {
   "cell_type": "code",
   "execution_count": 9,
   "metadata": {},
   "outputs": [
    {
     "name": "stdout",
     "output_type": "stream",
     "text": [
      "creating donors table...\n"
     ]
    }
   ],
   "source": [
    "print('creating donors table...')\n",
    "c.execute(\"CREATE TABLE donors \"\n",
    "          \"(donor_id SERIAL PRIMARY KEY, \"\n",
    "          \" name VARCHAR(200), \"\n",
    "          \" address_1 VARCHAR(200), address_2 VARCHAR(200), \"\n",
    "          \" city VARCHAR(200), state VARCHAR(15), \"\n",
    "          \" zip VARCHAR(11), occupation VARCHAR(200), \"\n",
    "          \" employer VARCHAR(200) \"\n",
    "          \" )\")\n",
    "\n",
    "c.execute(\"INSERT INTO donors \"\n",
    "          \"(name, address_1, \"\n",
    "          \" address_2, city, state, zip, occupation, employer) \"\n",
    "          \"SELECT DISTINCT \"\n",
    "          \"name, \"\n",
    "          \"street_line_1, street_line_2, \"\n",
    "          \"city, state, zip_code, \"\n",
    "          \"profession_job_title, employer_name_specific_field \"\n",
    "          \"FROM raw_table\")\n",
    "\n",
    "c.execute(\"SELECT COUNT(*) FROM donors\")\n",
    "\n",
    "conn.commit()"
   ]
  },
  {
   "cell_type": "code",
   "execution_count": 10,
   "metadata": {},
   "outputs": [
    {
     "name": "stdout",
     "output_type": "stream",
     "text": [
      "creating indexes on donors table...\n"
     ]
    }
   ],
   "source": [
    "print('creating indexes on donors table...')\n",
    "c.execute(\"CREATE INDEX donors_donor_info ON donors \"\n",
    "          \"(name, address_1, address_2, city, \"\n",
    "          \" state, zip)\")\n",
    "conn.commit()"
   ]
  },
  {
   "cell_type": "code",
   "execution_count": 11,
   "metadata": {},
   "outputs": [],
   "source": [
    "conn.commit()"
   ]
  },
  {
   "cell_type": "code",
   "execution_count": 12,
   "metadata": {},
   "outputs": [
    {
     "name": "stdout",
     "output_type": "stream",
     "text": [
      "creating recipients table...\n"
     ]
    }
   ],
   "source": [
    "print('creating recipients table...')\n",
    "c.execute(\"CREATE TABLE recipients \"\n",
    "          \"(recipient_id VARCHAR(200), name VARCHAR(200), \"\n",
    "          \" address_1 VARCHAR(200), address_2 VARCHAR(200), \"\n",
    "          \" city VARCHAR(200), state VARCHAR(200), zip VARCHAR(200) \"\n",
    "         \")\")\n",
    "\n",
    "c.execute(\"INSERT INTO recipients \"\n",
    "          \"SELECT DISTINCT committee_sboe_id, \"\n",
    "          \"committee_name, committee_street_1, committee_street_2, \"\n",
    "          \"committee_city, committee_state, committee_zip_code \"\n",
    "          \"FROM raw_table\")\n",
    "\n",
    "c.execute(\"SELECT COUNT(*) FROM recipients\")\n",
    "\n",
    "conn.commit()"
   ]
  },
  {
   "cell_type": "code",
   "execution_count": 13,
   "metadata": {},
   "outputs": [
    {
     "name": "stdout",
     "output_type": "stream",
     "text": [
      "creating contributions table...\n"
     ]
    }
   ],
   "source": [
    "print('creating contributions table...')\n",
    "c.execute(\"CREATE TABLE contributions \"\n",
    "                \"(contribution_id INT, committee_sboe_id VARCHAR(200), donor_id INT, \"\n",
    "                \" transaction_type VARCHAR(200), date_occured DATE, amount FLOAT, \"\n",
    "                \" report_name VARCHAR(200), account_code VARCHAR(200), form_of_payment VARCHAR(200), \"\n",
    "                \" purpose VARCHAR(500), candidate_referendum_name VARCHAR(200), declaration VARCHAR(200)\"\n",
    "                \")\")\n",
    "conn.commit()\n"
   ]
  },
  {
   "cell_type": "code",
   "execution_count": 16,
   "metadata": {},
   "outputs": [],
   "source": [
    "conn.commit()"
   ]
  },
  {
   "cell_type": "code",
   "execution_count": 17,
   "metadata": {},
   "outputs": [],
   "source": [
    "c.execute(\"INSERT INTO contributions \"\n",
    "          \"SELECT trans_id, committee_sboe_id, donors.donor_id, \"\n",
    "          \" transaction_type, TO_DATE(TRIM(date_occured), 'MM/DD/YYYY'), \"\n",
    "          \" CAST(amount as DOUBLE PRECISION), \"\n",
    "          \" report_name, \"\n",
    "          \" account_code, \"\n",
    "          \" form_of_payment, \"\n",
    "          \" purpose, \"\n",
    "          \" candidate_referendum_name, \"\n",
    "          \" declaration \"\n",
    "          \"FROM raw_table JOIN donors ON \"\n",
    "          \"donors.name = raw_table.name AND \"\n",
    "          \"donors.address_1 = raw_table.street_line_1 AND \"\n",
    "          \"donors.address_2 = raw_table.street_line_2 AND \"\n",
    "          \"donors.city = raw_table.city AND \"\n",
    "          \"donors.state = raw_table.state AND \"\n",
    "          \"donors.employer = raw_table.employer_name_specific_field AND \"\n",
    "          \"donors.occupation = raw_table.profession_job_title AND \"\n",
    "          \"donors.zip = raw_table.zip_code\")\n",
    "conn.commit()"
   ]
  },
  {
   "cell_type": "code",
   "execution_count": 18,
   "metadata": {},
   "outputs": [
    {
     "name": "stdout",
     "output_type": "stream",
     "text": [
      "creating indexes on contributions...\n"
     ]
    }
   ],
   "source": [
    "print('creating indexes on contributions...')\n",
    "c.execute(\"ALTER TABLE contributions ADD PRIMARY KEY(contribution_id)\")\n",
    "c.execute(\"CREATE INDEX donor_idx ON contributions (donor_id)\")\n",
    "c.execute(\"CREATE INDEX recipient_idx ON contributions (committee_sboe_id)\")\n",
    "\n",
    "conn.commit()"
   ]
  },
  {
   "cell_type": "code",
   "execution_count": 19,
   "metadata": {},
   "outputs": [
    {
     "name": "stdout",
     "output_type": "stream",
     "text": [
      "nullifying empty strings in donors...\n"
     ]
    }
   ],
   "source": [
    "print('nullifying empty strings in donors...')\n",
    "c.execute(\n",
    "    \"UPDATE donors \"\n",
    "    \"SET \"\n",
    "    \"name = CASE name WHEN '' THEN NULL ELSE name END, \"\n",
    "    \"address_1 = CASE address_1 WHEN '' THEN NULL ELSE address_1 END, \"\n",
    "    \"address_2 = CASE address_2 WHEN '' THEN NULL ELSE address_2 END, \"\n",
    "    \"city = CASE city WHEN '' THEN NULL ELSE city END, \"\n",
    "    \"state = CASE state WHEN '' THEN NULL ELSE state END, \"\n",
    "    \"employer = CASE employer WHEN '' THEN NULL ELSE employer END, \"\n",
    "    \"occupation = CASE occupation WHEN '' THEN NULL ELSE occupation END, \"\n",
    "    \"zip = CASE zip WHEN '' THEN NULL ELSE zip END\"\n",
    ")\n",
    "\n",
    "\n",
    "conn.commit()"
   ]
  },
  {
   "cell_type": "code",
   "execution_count": 20,
   "metadata": {},
   "outputs": [
    {
     "name": "stdout",
     "output_type": "stream",
     "text": [
      "creating processed_donors...\n",
      "done\n"
     ]
    }
   ],
   "source": [
    "print('creating processed_donors...')\n",
    "c.execute(\"CREATE TABLE processed_donors AS \"\n",
    "          \"(SELECT donor_id, \"\n",
    "          \" CASE WHEN (name IS NULL) \"\n",
    "          \"      THEN NULL \"\n",
    "          \"      ELSE LOWER(CONCAT_WS(' ', name)) \"\n",
    "          \" END AS name, \"  \n",
    "           \" CASE WHEN (address_1 IS NULL AND address_2 IS NULL) \"\n",
    "          \"      THEN NULL \"\n",
    "          \"      ELSE LOWER(CONCAT_WS(' ', address_1, address_2)) \"\n",
    "          \" END AS address, \" \n",
    "          \" LOWER(city) AS city, \"\n",
    "          \" LOWER(state) AS state, \"\n",
    "          \" LOWER(zip) AS zip, \"\n",
    "          \" LOWER(occupation) AS occupation, \"\n",
    "          \" LOWER(employer) AS employer, \"\n",
    "          \" CAST((name IS NULL) AS INTEGER) AS person \"\n",
    "          \" FROM donors)\")\n",
    "\n",
    "c.execute(\"CREATE INDEX processed_donor_idx ON processed_donors (donor_id)\")\n",
    "\n",
    "conn.commit()\n",
    "\n",
    "c.close()\n",
    "conn.close()\n",
    "print('done')"
   ]
  },
  {
   "cell_type": "code",
   "execution_count": null,
   "metadata": {},
   "outputs": [],
   "source": []
  }
 ],
 "metadata": {
  "kernelspec": {
   "display_name": "Python 3",
   "language": "python",
   "name": "python3"
  },
  "language_info": {
   "codemirror_mode": {
    "name": "ipython",
    "version": 3
   },
   "file_extension": ".py",
   "mimetype": "text/x-python",
   "name": "python",
   "nbconvert_exporter": "python",
   "pygments_lexer": "ipython3",
   "version": "3.8.5"
  }
 },
 "nbformat": 4,
 "nbformat_minor": 4
}
