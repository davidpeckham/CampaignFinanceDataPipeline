{
 "cells": [
  {
   "cell_type": "code",
   "execution_count": null,
   "metadata": {},
   "outputs": [],
   "source": [
    "import pandas as pd\n",
    "\n",
    "import spacy\n",
    "from spaczz.matcher import FuzzyMatcher"
   ]
  },
  {
   "cell_type": "code",
   "execution_count": null,
   "metadata": {},
   "outputs": [],
   "source": [
    "ls s3-data"
   ]
  },
  {
   "cell_type": "code",
   "execution_count": null,
   "metadata": {},
   "outputs": [],
   "source": [
    "df = pd.read_csv(\"committees-extracted-candidates.csv\")\n",
    "cands = pd.read_csv(\"s3-data/candidate_list_2010_to_2020.csv\")\n",
    "cands.info()"
   ]
  },
  {
   "cell_type": "code",
   "execution_count": null,
   "metadata": {},
   "outputs": [],
   "source": [
    "df.columns"
   ]
  },
  {
   "cell_type": "code",
   "execution_count": null,
   "metadata": {},
   "outputs": [],
   "source": [
    "cands.columns"
   ]
  },
  {
   "cell_type": "code",
   "execution_count": null,
   "metadata": {},
   "outputs": [],
   "source": [
    "# Drop committees which do not have a potential candidate name.\n",
    "df_dropped = df.dropna(subset=[\"processed_candidate\"])\n",
    "\n",
    "# Get rows which were not dropped - tag for manual review\n",
    "for_review = df.drop(df_dropped.index)\n",
    "\n",
    "# Empty placeholder dataframe for matched candidate ids\n",
    "matched_candidate = pd.DataFrame(index=df_dropped.index, columns=[\"matched_candidate\"])\n",
    "\n",
    "# For testing set to a small number of rows.\n",
    "subset = df_dropped.iloc[:, :]"
   ]
  },
  {
   "cell_type": "code",
   "execution_count": null,
   "metadata": {},
   "outputs": [],
   "source": [
    "for_review"
   ]
  },
  {
   "cell_type": "code",
   "execution_count": null,
   "metadata": {},
   "outputs": [],
   "source": [
    "import numpy as np\n",
    "import time\n",
    "\n",
    "start = time.time()\n",
    "\n",
    "multiple_matches = []\n",
    "no_matches = []\n",
    "\n",
    "# Create matcher outside of the loop. It is much slower to instantiate it each time inside the loop than to \n",
    "# instantiate outside then use `.add` and `.remove`\n",
    "nlp = spacy.blank(\"en\")\n",
    "matcher = FuzzyMatcher(nlp.vocab)\n",
    "\n",
    "for index, candidate in subset.iterrows():\n",
    "\n",
    "    # Create a matcher\n",
    "    matcher.add(\"NAME\", [nlp(candidate[\"processed_candidate\"])])\n",
    "        \n",
    "    original_matches = cands[\"name_on_ballot\"].apply(lambda x: matcher(nlp(x)) if matcher(nlp(x)) else np.nan)\n",
    "    original_matches.dropna(inplace=True)\n",
    "    match_percentage = original_matches.apply(lambda x: [ratio for _, _, _, ratio in x][0])\n",
    "\n",
    "    # Remove what name from matcher.\n",
    "    matcher.remove(\"NAME\")\n",
    "    \n",
    "    true_match = [match_percentage.idxmax() if match_percentage.max() == 100 else []][0]\n",
    "    \n",
    "    if true_match:\n",
    "        matches_index = [true_match]\n",
    "    else:\n",
    "        matches_index = match_percentage[match_percentage>90].index\n",
    "    \n",
    "    matches = cands.loc[matches_index]\n",
    "    \n",
    "    matches_filter = matches[matches[\"city\"] == candidate[\"committee_city\"]]\n",
    "    \n",
    "    if len(matches) == 0:\n",
    "        no_matches.append({\"candidate\": candidate, \"matches\": []})\n",
    "        \n",
    "    else:\n",
    "        id_nums = pd.unique(matches[\"candidate_name\"])\n",
    "        \n",
    "        if len(id_nums) > 1 and len(matches_filter):\n",
    "            id_nums = pd.unique(matches_filter[\"candidate_name\"])\n",
    "\n",
    "        if len(id_nums)==1 and len(matches_filter):\n",
    "            # success!\n",
    "            matched_candidate.loc[index] = id_nums[0]\n",
    "        else:\n",
    "            multiple_matches.append({\"committee\": candidate, \"matches\": matches})\n",
    "\n",
    "end = time.time()\n",
    "\n",
    "print(f\"Elapsed time: {end-start}\")"
   ]
  },
  {
   "cell_type": "code",
   "execution_count": null,
   "metadata": {},
   "outputs": [],
   "source": [
    "matches_filter"
   ]
  },
  {
   "cell_type": "code",
   "execution_count": null,
   "metadata": {},
   "outputs": [],
   "source": [
    "matched_candidate.dropna()"
   ]
  },
  {
   "cell_type": "code",
   "execution_count": null,
   "metadata": {},
   "outputs": [],
   "source": [
    "len(subset.reindex(matched_candidate.dropna().index))"
   ]
  },
  {
   "cell_type": "code",
   "execution_count": null,
   "metadata": {},
   "outputs": [],
   "source": [
    "matched_candidate.columns = [\"candidate_name\"]"
   ]
  },
  {
   "cell_type": "code",
   "execution_count": null,
   "metadata": {},
   "outputs": [],
   "source": [
    "matched_candidate"
   ]
  },
  {
   "cell_type": "code",
   "execution_count": null,
   "metadata": {},
   "outputs": [],
   "source": [
    "t2 = pd.concat([subset, matched_candidate], axis=1)"
   ]
  },
  {
   "cell_type": "code",
   "execution_count": null,
   "metadata": {},
   "outputs": [],
   "source": [
    "len(t2.dropna(subset=[\"candidate_name\"]))"
   ]
  },
  {
   "cell_type": "code",
   "execution_count": null,
   "metadata": {},
   "outputs": [],
   "source": [
    "merged = cands.merge(t2, on=[\"candidate_name\"])"
   ]
  },
  {
   "cell_type": "code",
   "execution_count": null,
   "metadata": {},
   "outputs": [],
   "source": [
    "capture = merged.dropna(subset=[\"election_dt\"])"
   ]
  },
  {
   "cell_type": "code",
   "execution_count": null,
   "metadata": {},
   "outputs": [],
   "source": [
    "capture.info()"
   ]
  },
  {
   "cell_type": "code",
   "execution_count": null,
   "metadata": {},
   "outputs": [],
   "source": [
    "capture.dropna(axis=1, how=\"all\", inplace=True)"
   ]
  },
  {
   "cell_type": "code",
   "execution_count": null,
   "metadata": {},
   "outputs": [],
   "source": [
    "capture.info()"
   ]
  },
  {
   "cell_type": "code",
   "execution_count": null,
   "metadata": {},
   "outputs": [],
   "source": [
    "capture.to_csv(\"examine_all_90.csv\", index=False)"
   ]
  },
  {
   "cell_type": "code",
   "execution_count": null,
   "metadata": {},
   "outputs": [],
   "source": [
    "capture[\"candidate_name\"]"
   ]
  },
  {
   "cell_type": "code",
   "execution_count": null,
   "metadata": {},
   "outputs": [],
   "source": [
    "multiple_matches"
   ]
  },
  {
   "cell_type": "code",
   "execution_count": null,
   "metadata": {},
   "outputs": [],
   "source": [
    "matches_index"
   ]
  },
  {
   "cell_type": "code",
   "execution_count": null,
   "metadata": {},
   "outputs": [],
   "source": [
    "matches[\"city\"]"
   ]
  },
  {
   "cell_type": "code",
   "execution_count": null,
   "metadata": {},
   "outputs": [],
   "source": [
    "candidate[\"committee_city\"]"
   ]
  },
  {
   "cell_type": "code",
   "execution_count": null,
   "metadata": {},
   "outputs": [],
   "source": [
    "index"
   ]
  },
  {
   "cell_type": "code",
   "execution_count": null,
   "metadata": {},
   "outputs": [],
   "source": [
    "subset"
   ]
  },
  {
   "cell_type": "code",
   "execution_count": null,
   "metadata": {},
   "outputs": [],
   "source": [
    "len(multiple_matches)"
   ]
  },
  {
   "cell_type": "code",
   "execution_count": null,
   "metadata": {},
   "outputs": [],
   "source": [
    "len(no_matches)"
   ]
  },
  {
   "cell_type": "code",
   "execution_count": null,
   "metadata": {},
   "outputs": [],
   "source": [
    "mm_pd = pd.DataFrame(multiple_matches)\n",
    "no_pd = pd.DataFrame(no_matches)"
   ]
  },
  {
   "cell_type": "code",
   "execution_count": null,
   "metadata": {},
   "outputs": [],
   "source": [
    "mm_pd.to_pickle(\"multiple_matches.pkl\")\n",
    "no_pd.to_pickle(\"no_matches.pkl\")"
   ]
  }
 ],
 "metadata": {
  "kernelspec": {
   "display_name": "Python 3",
   "language": "python",
   "name": "python3"
  },
  "language_info": {
   "codemirror_mode": {
    "name": "ipython",
    "version": 3
   },
   "file_extension": ".py",
   "mimetype": "text/x-python",
   "name": "python",
   "nbconvert_exporter": "python",
   "pygments_lexer": "ipython3",
   "version": "3.7.6"
  }
 },
 "nbformat": 4,
 "nbformat_minor": 5
}
