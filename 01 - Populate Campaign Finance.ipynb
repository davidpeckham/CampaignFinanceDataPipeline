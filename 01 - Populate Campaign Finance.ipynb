{
 "cells": [
  {
   "cell_type": "code",
   "execution_count": 1,
   "metadata": {},
   "outputs": [
    {
     "name": "stdout",
     "output_type": "stream",
     "text": [
      "Collecting psycopg2-binary\n",
      "  Downloading psycopg2_binary-2.8.6-cp38-cp38-manylinux1_x86_64.whl (3.0 MB)\n",
      "\u001b[K     |████████████████████████████████| 3.0 MB 3.0 MB/s eta 0:00:01\n",
      "\u001b[?25hInstalling collected packages: psycopg2-binary\n",
      "Successfully installed psycopg2-binary-2.8.6\n",
      "Note: you may need to restart the kernel to use updated packages.\n"
     ]
    }
   ],
   "source": [
    "pip install psycopg2-binary"
   ]
  },
  {
   "cell_type": "code",
   "execution_count": 2,
   "metadata": {},
   "outputs": [
    {
     "name": "stdout",
     "output_type": "stream",
     "text": [
      "Collecting unidecode\n",
      "  Downloading Unidecode-1.2.0-py2.py3-none-any.whl (241 kB)\n",
      "\u001b[K     |████████████████████████████████| 241 kB 2.2 MB/s eta 0:00:01\n",
      "\u001b[?25hInstalling collected packages: unidecode\n",
      "Successfully installed unidecode-1.2.0\n",
      "Note: you may need to restart the kernel to use updated packages.\n"
     ]
    }
   ],
   "source": [
    "pip install unidecode"
   ]
  },
  {
   "cell_type": "code",
   "execution_count": 3,
   "metadata": {},
   "outputs": [],
   "source": [
    "import csv\n",
    "import os\n",
    "import zipfile\n",
    "\n",
    "import psycopg2\n",
    "import psycopg2.extras\n",
    "import unidecode\n",
    "import requests\n",
    "import re"
   ]
  },
  {
   "cell_type": "code",
   "execution_count": 5,
   "metadata": {},
   "outputs": [],
   "source": [
    "conn = psycopg2.connect(database=\"campaign-finance\",\n",
    "                        user=\"postgres\",\n",
    "                       password=\"\",\n",
    "                        host=\"172.16.238.13\",\n",
    "                        port=\"5432\")\n",
    "c = conn.cursor()"
   ]
  },
  {
   "cell_type": "markdown",
   "metadata": {},
   "source": [
    "## **Committee Documents**"
   ]
  },
  {
   "cell_type": "code",
   "execution_count": null,
   "metadata": {},
   "outputs": [],
   "source": [
    "directory = os.fsencode(\"./data/committee_list\")\n",
    "    \n",
    "for filename in os.listdir(directory):\n",
    "    full_filename = os.path.join(directory, filename)\n",
    "    \n",
    "    with open(full_filename, 'rU') as csv_file: \n",
    "        c.copy_expert(\"COPY committee_list \" \n",
    "                  \"(committeename_url, committeename, \" \n",
    "                  \" sboeid_url, sboeid, \" \n",
    "                  \" status_url, status, \" \n",
    "                  \" candidatename_parententityname_url, candidatename_parententityname) \" \n",
    "                  \"FROM STDIN CSV HEADER\", csv_file)\n",
    "\n",
    "    conn.commit()\n",
    "print(\"Done.\") \n",
    "    "
   ]
  },
  {
   "cell_type": "code",
   "execution_count": null,
   "metadata": {
    "scrolled": true
   },
   "outputs": [],
   "source": [
    "directory = os.fsencode(\"./data/committee_doc_list\")\n",
    "    \n",
    "for filename in os.listdir(directory):\n",
    "    full_filename = os.path.join(directory, filename)\n",
    "    print(full_filename)\n",
    "    with open(full_filename, 'rU') as csv_file: \n",
    "        c.copy_expert(\"COPY committee_doc_list \" \n",
    "                  \"(committee_name, year, \" \n",
    "                  \" doctype, docname, \" \n",
    "                  \" receivedimage, startdate, enddate, \" \n",
    "                  \" image_url, image, \"\n",
    "                  \" data_text, data_url) \" \n",
    "                  \"FROM STDIN CSV HEADER\", csv_file)\n",
    "\n",
    "    conn.commit()\n",
    "\n",
    "print(\"Done.\")\n",
    "    \n",
    "    "
   ]
  },
  {
   "cell_type": "code",
   "execution_count": null,
   "metadata": {},
   "outputs": [],
   "source": [
    "print('fixing committee ids ...')\n",
    "c.execute(\"update committee_doc_list \"\n",
    "          \"set committee_name = split_part(committee_name, '[', 1), \"\n",
    "          \" sboe_committee_id = substring(split_part(committee_name, '[', 2), 1, 16) \"\n",
    "          )\n",
    "print(\"Done.\")"
   ]
  },
  {
   "cell_type": "code",
   "execution_count": null,
   "metadata": {},
   "outputs": [],
   "source": [
    "\n",
    "\tset committee_name = split_part(committee_name, '[', 1),\n",
    "\t\tsboe_committee_id = substring(split_part(committee_name, '[', 2), 1, 16)"
   ]
  },
  {
   "cell_type": "code",
   "execution_count": null,
   "metadata": {},
   "outputs": [],
   "source": [
    "_file = './data/raw_files/transinq_results_20170101_20170630'\n",
    "contributions_zip_file = _file + '.txt.zip'\n",
    "contributions_txt_file = _file + '.txt'\n",
    "contributions_csv_file = _file + '.csv'"
   ]
  },
  {
   "cell_type": "raw",
   "metadata": {},
   "source": [
    "if not os.path.exists(contributions_zip_file): \n",
    "    print('downloading', contributions_zip_file, '(~60mb) ...') \n",
    "    u = requests.get( 'https://s3.amazonaws.com/dedupe-data/Illinois-campaign-contributions.txt.zip') \n",
    "    localFile = open(contributions_zip_file, 'wb') localFile.write(u.content) localFile.close()\n",
    "\n",
    "if not os.path.exists(contributions_txt_file): \n",
    "    zip_file = zipfile.ZipFile(contributions_zip_file, 'r') \n",
    "    print('extracting %s' % contributions_zip_file) \n",
    "    zip_file_contents = zip_file.namelist() \n",
    "    for f in zip_file_contents: \n",
    "        if ('.txt' in f): zip_file.extract(f) zip_file.close()"
   ]
  },
  {
   "cell_type": "code",
   "execution_count": null,
   "metadata": {
    "scrolled": true
   },
   "outputs": [],
   "source": [
    "# Create a cleaned up CSV version of file with consistent row lengths.\n",
    "# Postgres COPY doesn't handle \"ragged\" files very well\n",
    "if not os.path.exists(contributions_csv_file):\n",
    "    print('converting tab-delimited raw file to csv...')\n",
    "    with open(contributions_txt_file, 'rU', encoding=\"cp1252\") as txt_file, \\\n",
    "            open(contributions_csv_file, 'w') as csv_file:\n",
    "        csv_writer = csv.writer(csv_file, quoting=csv.QUOTE_ALL)\n",
    "        for line in txt_file:\n",
    "            if not all(ord(c) < 128 for c in line):\n",
    "                line = unidecode.unidecode(line)\n",
    "            line = re.sub('\"','', line)\n",
    "            row = line.rstrip('\\t\\r\\n').split('\\t')\n",
    "            if len(row) == 24:\n",
    "                row = row + ['','']\n",
    "            if len(row) != 24:\n",
    "                print('skipping bad row (length %s, expected 24):' % len(row))\n",
    "                print(row)\n",
    "                continue\n",
    "            csv_writer.writerow(row)"
   ]
  },
  {
   "cell_type": "markdown",
   "metadata": {},
   "source": [
    "## **Raw Tables**\n",
    "\n",
    "These are the files downloaded from the SBOE site transaction search, they only have to be imported once\n"
   ]
  },
  {
   "cell_type": "code",
   "execution_count": 25,
   "metadata": {},
   "outputs": [],
   "source": [
    "conn.commit()"
   ]
  },
  {
   "cell_type": "code",
   "execution_count": 26,
   "metadata": {},
   "outputs": [
    {
     "name": "stdout",
     "output_type": "stream",
     "text": [
      "creating raw_table table...\n",
      "Done.\n"
     ]
    }
   ],
   "source": [
    "print('creating raw_table table...')\n",
    "c.execute(\"CREATE TABLE raw_table \"\n",
    "          \"(trans_id SERIAL PRIMARY KEY, \"\n",
    "          \" name VARCHAR(200) DEFAULT '' NOT NULL, \"\n",
    "          \" street_line_1 VARCHAR(200) DEFAULT '' NOT NULL, street_line_2 VARCHAR(200) DEFAULT '' NOT NULL, \"\n",
    "          \" city VARCHAR(200) DEFAULT '' NOT NULL, state VARCHAR(15) DEFAULT '' NOT NULL, \"\n",
    "          \" zip_code VARCHAR(11) DEFAULT '' NOT NULL, occupation VARCHAR(200) DEFAULT '' NOT NULL, \"\n",
    "          \" employer VARCHAR(200) DEFAULT '' NOT NULL, transaction_type VARCHAR(200) DEFAULT '' NOT NULL, \"\n",
    "          \" committee_name VARCHAR(200) DEFAULT '' NOT NULL, \"\n",
    "          \" committee_sboe_id VARCHAR(200) DEFAULT '' NOT NULL, committee_street_1 VARCHAR(200) DEFAULT '' NOT NULL, \"\n",
    "          \" committee_street_2 VARCHAR(200) DEFAULT '' NOT NULL, committee_city VARCHAR(200) DEFAULT '' NOT NULL, \"\n",
    "          \" committee_state VARCHAR(200) DEFAULT '' NOT NULL, committee_zip_code VARCHAR(200) DEFAULT '' NOT NULL, \"\n",
    "          \" report_name character varying(200) DEFAULT '' NOT NULL, date_occured VARCHAR(200) DEFAULT '' NOT NULL, \"\n",
    "          \" account_code VARCHAR(200) DEFAULT '' NOT NULL, amount VARCHAR(200) DEFAULT '' NOT NULL, \"\n",
    "          \" form_of_payment VARCHAR(200) DEFAULT '' NOT NULL, purpose VARCHAR(500) DEFAULT '' NOT NULL, \"\n",
    "          \" candidate_referendum_name VARCHAR(200) DEFAULT '' NOT NULL, declaration VARCHAR(200) DEFAULT '' NOT NULL \"\n",
    "          \" )\")\n",
    "\n",
    "print(\"Done.\")\n",
    "conn.commit()\n",
    "\n"
   ]
  },
  {
   "cell_type": "code",
   "execution_count": 9,
   "metadata": {
    "scrolled": true
   },
   "outputs": [
    {
     "name": "stdout",
     "output_type": "stream",
     "text": [
      "b'./data/raw_files/transinq_results-20100101-20101231.csv'\n"
     ]
    },
    {
     "name": "stderr",
     "output_type": "stream",
     "text": [
      "<ipython-input-9-50c6f0113282>:6: DeprecationWarning: 'U' mode is deprecated\n",
      "  with open(full_filename, 'rU') as csv_file:\n"
     ]
    },
    {
     "name": "stdout",
     "output_type": "stream",
     "text": [
      "b'./data/raw_files/transinq_results-20120101-20121231.csv'\n",
      "b'./data/raw_files/transinq_results_20110101_20111231.csv'\n",
      "b'./data/raw_files/transinq_results_20130101_20131231.csv'\n",
      "b'./data/raw_files/transinq_results_20140101_20141231.csv'\n",
      "b'./data/raw_files/transinq_results_20150101_20151231.csv'\n",
      "b'./data/raw_files/transinq_results_20160101_20161231.csv'\n",
      "Done.\n"
     ]
    }
   ],
   "source": [
    "directory = os.fsencode(\"./data/raw_files\")\n",
    "    \n",
    "for filename in os.listdir(directory):\n",
    "    full_filename = os.path.join(directory, filename)\n",
    "    print(full_filename)\n",
    "    with open(full_filename, 'rU') as csv_file: \n",
    "        c.copy_expert(\"COPY raw_table \" \n",
    "                      \"(name, street_line_1, street_line_2, city, state, \" \n",
    "                      \" zip_code, occupation, employer, transction_type, \" \n",
    "                      \" committee_name, committee_sboe_id, committee_street_1, \" \n",
    "                      \" committee_street_2, committee_city, committee_state, \" \n",
    "                      \"committee_zip_code, report_name, date_occured, account_code, \" \n",
    "                      \" amount, form_of_payment, purpose, candidate_referendum_name,\" \n",
    "                      \" declaration) \" \n",
    "                      \"FROM STDIN CSV HEADER\", csv_file)\n",
    "\n",
    "    conn.commit()\n",
    "\n",
    "print(\"Done.\")"
   ]
  },
  {
   "cell_type": "markdown",
   "metadata": {},
   "source": [
    "## **Transaction Tables**\n",
    "\n",
    "We are parsing out the information from the raw tables into specific objects "
   ]
  },
  {
   "cell_type": "code",
   "execution_count": 10,
   "metadata": {},
   "outputs": [
    {
     "name": "stdout",
     "output_type": "stream",
     "text": [
      "creating accounts table...\n",
      "table created, inserting records\n",
      "Done.\n"
     ]
    }
   ],
   "source": [
    "print('creating accounts table...')\n",
    "c.execute(\"CREATE TABLE accounts \"\n",
    "          \"(account_id SERIAL PRIMARY KEY, \"\n",
    "          \" name VARCHAR(200) DEFAULT '' NOT NULL, \"\n",
    "          \" address_1 VARCHAR(200) DEFAULT '' NOT NULL, address_2 VARCHAR(200) DEFAULT '' NOT NULL, \"\n",
    "          \" city VARCHAR(200) DEFAULT '' NOT NULL, state VARCHAR(15) DEFAULT '' NOT NULL, \"\n",
    "          \" zip VARCHAR(11) DEFAULT '' NOT NULL, occupation VARCHAR(200) DEFAULT '' NOT NULL, \"\n",
    "          \" employer VARCHAR(200) DEFAULT '' NOT NULL, \"\n",
    "          \" is_donor INT, is_vendor INT, is_person INT, is_organization INT \"\n",
    "          \" )\")\n",
    "print(\"table created, inserting records\")\n",
    "c.execute(\"INSERT INTO accounts \"\n",
    "          \"(name, address_1, \"\n",
    "          \" address_2, city, state, zip, occupation, employer) \"\n",
    "          \"SELECT DISTINCT \"\n",
    "          \"COALESCE(UPPER(TRIM(name)), ''), \"\n",
    "          \"COALESCE(UPPER(TRIM(street_line_1)), ''), COALESCE(UPPER(TRIM(street_line_2)), ''), \"\n",
    "          \"COALESCE(UPPER(TRIM(city)), ''), COALESCE(UPPER(TRIM(state)), ''), COALESCE(UPPER(TRIM(zip_code)), ''), \"\n",
    "          \"COALESCE(UPPER(TRIM(occupation)), ''), COALESCE(UPPER(TRIM(employer)), '') \"\n",
    "          \"FROM raw_table\")\n",
    "\n",
    "print(\"Done.\")\n",
    "conn.commit()"
   ]
  },
  {
   "cell_type": "code",
   "execution_count": 11,
   "metadata": {},
   "outputs": [
    {
     "name": "stdout",
     "output_type": "stream",
     "text": [
      "creating indexes on accounts table...\n",
      "Done.\n"
     ]
    }
   ],
   "source": [
    "print('creating indexes on accounts table...')\n",
    "c.execute(\"CREATE INDEX accounts_account_info ON accounts \"\n",
    "          \"(name, address_1, address_2, city, \"\n",
    "          \" state, zip)\")\n",
    "print(\"Done.\")\n",
    "conn.commit()"
   ]
  },
  {
   "cell_type": "code",
   "execution_count": 12,
   "metadata": {},
   "outputs": [],
   "source": [
    "conn.commit()"
   ]
  },
  {
   "cell_type": "code",
   "execution_count": 13,
   "metadata": {},
   "outputs": [
    {
     "name": "stdout",
     "output_type": "stream",
     "text": [
      "creating committees table...\n",
      "inserting records\n",
      "Done.\n"
     ]
    }
   ],
   "source": [
    "print('creating committees table...')\n",
    "c.execute(\"CREATE TABLE committees \"\n",
    "          \"(comm_id SERIAL PRIMARY KEY, \"\n",
    "          \" sboe_committee_id VARCHAR(200), name VARCHAR(200), \"\n",
    "          \" address_1 VARCHAR(200), address_2 VARCHAR(200), \"\n",
    "          \" city VARCHAR(200), state VARCHAR(200), zip VARCHAR(200), \"\n",
    "          \" candidate_id INT, treasurer_id INT, asst_treasurer_id INT \"\n",
    "          \")\")\n",
    "print(\"inserting records\")\n",
    "c.execute(\"INSERT INTO committees \"\n",
    "          \"(sboe_committee_id, name, address_1, address_2, city, state, zip) \"\n",
    "          \"SELECT DISTINCT COALESCE(UPPER(TRIM(committee_sboe_id)), ''), \"\n",
    "          \"COALESCE(UPPER(TRIM(committee_name)), ''), COALESCE(UPPER(TRIM(committee_street_1)), ''), COALESCE(UPPER(TRIM(committee_street_2)), ''), \"\n",
    "          \"COALESCE(UPPER(TRIM(committee_city)), ''), COALESCE(UPPER(TRIM(committee_state)), ''), COALESCE(UPPER(TRIM(committee_zip_code)), '') \"\n",
    "          \"FROM raw_table\")\n",
    "\n",
    "print(\"Done.\")\n",
    "conn.commit()"
   ]
  },
  {
   "cell_type": "code",
   "execution_count": 14,
   "metadata": {},
   "outputs": [
    {
     "name": "stdout",
     "output_type": "stream",
     "text": [
      "creating transactions table...\n",
      "Done.\n"
     ]
    }
   ],
   "source": [
    "print('creating transactions table...')\n",
    "c.execute(\"CREATE TABLE transactions \"\n",
    "                \"(transaction_id INT, original_committee_sboe_id VARCHAR(200), original_account_id INT,  \"\n",
    "                \" transaction_type VARCHAR(200), date_occured DATE, amount FLOAT, \"\n",
    "                \" report_name VARCHAR(200), account_code VARCHAR(200), form_of_payment VARCHAR(200), \"\n",
    "                \" purpose VARCHAR(500), candidate_referendum_name VARCHAR(200), declaration VARCHAR(200), \"\n",
    "                \"canon_account_id INT, canon_committee_sboe_id VARCHAR(200) \"\n",
    "                \")\")\n",
    "print(\"Done.\")\n",
    "conn.commit()"
   ]
  },
  {
   "cell_type": "code",
   "execution_count": 15,
   "metadata": {},
   "outputs": [
    {
     "name": "stdout",
     "output_type": "stream",
     "text": [
      "Inserting transaction records\n",
      "Done.\n"
     ]
    }
   ],
   "source": [
    "print(\"Inserting transaction records\")\n",
    "c.execute(\"INSERT INTO transactions \"\n",
    "          \"(transaction_id, original_committee_sboe_id, original_account_id, \"\n",
    "          \" transaction_type, date_occured, amount, report_name, account_code, \"\n",
    "          \" form_of_payment, purpose, candidate_referendum_name, declaration)\"\n",
    "          \"SELECT trans_id, \"\n",
    "          \"COALESCE(UPPER(TRIM(committee_sboe_id)), ''), \"\n",
    "          \"accounts.account_id, \"\n",
    "          \"COALESCE(UPPER(TRIM(transction_type)), ''), \"\n",
    "          \"TO_DATE(TRIM(date_occured), 'MM/DD/YYYY'), \"\n",
    "          \"CAST(amount as DOUBLE PRECISION), \"\n",
    "          \"COALESCE(UPPER(TRIM(report_name)), ''), \"\n",
    "          \"COALESCE(UPPER(TRIM(account_code)), ''), \"\n",
    "          \"COALESCE(UPPER(TRIM(form_of_payment)), ''), \"\n",
    "          \"COALESCE(UPPER(TRIM(purpose)), ''), \"\n",
    "          \"COALESCE(UPPER(TRIM(candidate_referendum_name)), ''), \"\n",
    "          \"COALESCE(UPPER(TRIM(declaration)), '') \"\n",
    "          \"FROM raw_table LEFT JOIN accounts ON \"\n",
    "          \"accounts.name = COALESCE(UPPER(TRIM(raw_table.name)), '') AND \"\n",
    "          \"accounts.address_1 = COALESCE(UPPER(TRIM(raw_table.street_line_1)), '') AND \"\n",
    "          \"accounts.address_2 = COALESCE(UPPER(TRIM(raw_table.street_line_2)), '') AND \"\n",
    "          \"accounts.city = COALESCE(UPPER(TRIM(raw_table.city)), '') AND \"\n",
    "          \"accounts.state = COALESCE(UPPER(TRIM(raw_table.state)), '') AND \"\n",
    "          \"accounts.employer = COALESCE(UPPER(TRIM(raw_table.employer)), '') AND \"\n",
    "          \"accounts.occupation = COALESCE(UPPER(TRIM(raw_table.occupation)), '') AND \"\n",
    "          \"accounts.zip = COALESCE(UPPER(TRIM(raw_table.zip_code)), '')\")\n",
    "print(\"Done.\")\n",
    "conn.commit()"
   ]
  },
  {
   "cell_type": "code",
   "execution_count": 16,
   "metadata": {},
   "outputs": [
    {
     "name": "stdout",
     "output_type": "stream",
     "text": [
      "creating indexes on transactions...\n",
      "Done.\n"
     ]
    }
   ],
   "source": [
    "print('creating indexes on transactions...')\n",
    "c.execute(\"ALTER TABLE transactions ADD PRIMARY KEY(transaction_id)\")\n",
    "c.execute(\"CREATE INDEX donor_idx ON transactions (original_account_id)\")\n",
    "c.execute(\"CREATE INDEX committee_idx ON transactions (original_committee_sboe_id)\")\n",
    "c.execute(\"CREATE INDEX canon_donor_idx ON transactions (canon_account_id)\")\n",
    "print(\"Done.\")\n",
    "conn.commit()"
   ]
  },
  {
   "cell_type": "code",
   "execution_count": 17,
   "metadata": {},
   "outputs": [
    {
     "name": "stdout",
     "output_type": "stream",
     "text": [
      "creating processed_accounts...\n",
      "Done.\n"
     ]
    }
   ],
   "source": [
    "print('creating processed_accounts...')\n",
    "c.execute(\"CREATE TABLE processed_accounts AS \"\n",
    "          \"(SELECT account_id, \"\n",
    "          \" CASE WHEN (name = '') \"\n",
    "          \"      THEN NULL \"\n",
    "          \"      ELSE LOWER(CONCAT_WS(' ', name)) \"\n",
    "          \" END AS name, \"  \n",
    "           \" CASE WHEN (address_1 = '' AND address_2 = '') \"\n",
    "          \"      THEN NULL \"\n",
    "          \"      ELSE LOWER(CONCAT_WS(' ', address_1, address_2)) \"\n",
    "          \" END AS address, \" \n",
    "          \" CASE WHEN (city = '') \"\n",
    "          \"      THEN NULL \"\n",
    "          \"      ELSE LOWER(city) \"\n",
    "          \" END AS city, \"\n",
    "          \" CASE WHEN (state = '') \"\n",
    "          \"      THEN NULL \"\n",
    "          \"      ELSE LOWER(state) \"\n",
    "          \" END AS state, \"\n",
    "          \" CASE WHEN (zip = '') \"\n",
    "          \"      THEN NULL \"\n",
    "          \"      ELSE LOWER(zip) \"\n",
    "          \" END AS zip, \"\n",
    "          \" CASE WHEN (occupation = '') \"\n",
    "          \"      THEN NULL \"\n",
    "          \"      ELSE LOWER(occupation) \" \n",
    "          \" END AS occupation, \"\n",
    "          \" CASE WHEN (employer = '') \"\n",
    "          \"      THEN NULL \"\n",
    "          \"      ELSE LOWER(employer) \"\n",
    "          \" END AS employer \"\n",
    "        \" FROM accounts)\")\n",
    "\n",
    "c.execute(\"CREATE INDEX processed_account_idx ON processed_accounts (account_id)\")\n",
    "print(\"Done.\")\n",
    "conn.commit()"
   ]
  },
  {
   "cell_type": "code",
   "execution_count": 18,
   "metadata": {},
   "outputs": [
    {
     "name": "stdout",
     "output_type": "stream",
     "text": [
      "creating processed_committees...\n",
      "Done.\n"
     ]
    }
   ],
   "source": [
    "print('creating processed_committees...')\n",
    "c.execute(\"CREATE TABLE processed_committees AS \"\n",
    "          \"(SELECT comm_id, \"\n",
    "          \" CASE WHEN (name = '') \"\n",
    "          \"      THEN NULL \"\n",
    "          \"      ELSE LOWER(CONCAT_WS(' ', name)) \"\n",
    "          \" END AS name, \"  \n",
    "           \" CASE WHEN (address_1 = '' AND address_2 = '') \"\n",
    "          \"      THEN NULL \"\n",
    "          \"      ELSE LOWER(CONCAT_WS(' ', address_1, address_2)) \"\n",
    "          \" END AS address, \" \n",
    "          \" LOWER(city) AS city, \"\n",
    "          \" LOWER(state) AS state, \"\n",
    "          \" LOWER(zip) AS zip \"\n",
    "          \" FROM committees)\")\n",
    "\n",
    "c.execute(\"CREATE INDEX processed_committee_idx ON processed_committees (comm_id)\")\n",
    "print(\"Done.\")\n",
    "conn.commit()"
   ]
  },
  {
   "cell_type": "markdown",
   "metadata": {},
   "source": [
    "## **Transaction Views**\n",
    "### Needs to be done after Dedupe Process"
   ]
  },
  {
   "cell_type": "code",
   "execution_count": null,
   "metadata": {},
   "outputs": [],
   "source": [
    "conn = psycopg2.connect(database=\"camp-fin\",\n",
    "                        user=\"postgres\",\n",
    "                       password=\"\",\n",
    "                        host=\"172.16.238.13\",\n",
    "                        port=\"5432\")\n",
    "c = conn.cursor()"
   ]
  },
  {
   "cell_type": "code",
   "execution_count": null,
   "metadata": {
    "scrolled": true
   },
   "outputs": [],
   "source": [
    "conn.commit()"
   ]
  },
  {
   "cell_type": "code",
   "execution_count": null,
   "metadata": {},
   "outputs": [],
   "source": [
    "print(\"Creating Contributions View\")\n",
    "c.execute(\"CREATE VIEW contributions AS \"\n",
    "          \"(SELECT transactions.transaction_id AS trans_id, \"\n",
    "          \" transactions.original_committee_sboe_id AS original_receiver_id, \"\n",
    "          \" transactions.original_account_id AS original_source_id, \"\n",
    "          \" transactions.transaction_type, \"\n",
    "          \" 'C' AS transaction_category, \"\n",
    "          \" transactions.date_occured, \"\n",
    "          \" transactions.amount, \"\n",
    "          \" transactions.report_name, \"\n",
    "          \" transactions.account_code, \"\n",
    "          \" transactions.form_of_payment, \"\n",
    "          \" transactions.purpose, \"\n",
    "          \" transactions.candidate_referendum_name AS candidate_refereendum_name, \"\n",
    "          \" transactions.declaration, \"\n",
    "          \" transactions.canon_account_id AS canon_source_id, \"\n",
    "          \" transactions.canon_committee_sboe_id AS canon_receiver_id \"\n",
    "          \"FROM transactions \"\n",
    "          \" WHERE transactions.transaction_type IN ('CONTRIB TO REIMBURSE', 'DONATION', 'FORGIVEN LOAN', \"\n",
    "          \" 'GENERAL', 'INDIVIDUAL', 'INTEREST', 'LOAN', \"\n",
    "          \" 'OUTSIDE SOURCE', 'OUTSTANDING LOAN', 'NON-PARTY COMM', 'NONPROFIT', 'PARTY COMM'))\")     \n",
    "conn.commit()\n",
    "print(\"Done.\")"
   ]
  },
  {
   "cell_type": "code",
   "execution_count": null,
   "metadata": {},
   "outputs": [],
   "source": [
    "print(\"Creating Expenses View\")\n",
    "c.execute(\"CREATE VIEW expenses AS \"\n",
    "          \"SELECT transactions.transaction_id AS trans_id, \"\n",
    "          \" transactions.original_committee_sboe_id AS orginal_source_id, \"\n",
    "          \" transactions.original_account_id AS original_receiver_id, \"\n",
    "          \" transactions.transaction_type, \"\n",
    "          \" 'E' AS transaction_category, \"\n",
    "          \" transactions.date_occured, \"\n",
    "          \" transactions.amount, \"\n",
    "          \" transactions.report_name, \"\n",
    "          \" transactions.account_code, \"\n",
    "          \" transactions.form_of_payment, \"\n",
    "          \" transactions.purpose, \"\n",
    "          \" transactions.candidate_referendum_name AS candidate_refereendum_name, \"\n",
    "          \" transactions.declaration, \"\n",
    "          \" transactions.canon_committee_sboe_id AS canon_source_id, \"\n",
    "          \" transactions.canon_account_id AS canon_receiver_id \"\n",
    "          \"FROM transactions \"\n",
    "          \"WHERE transactions.transaction_type IN ('CONT TO OTHER COMM', 'COORD PARTY EXP', 'DEBT PAYMENT', \"\n",
    "          \" 'INDEPENDENT EXP', 'LOAN REPAYMENT', 'NONMONETARY GIFT', 'OPERATING EXP', \"\n",
    "          \" 'REFUND')\")\n",
    "conn.commit()\n",
    "print(\"Done.\")"
   ]
  },
  {
   "cell_type": "code",
   "execution_count": null,
   "metadata": {},
   "outputs": [],
   "source": []
  },
  {
   "cell_type": "code",
   "execution_count": null,
   "metadata": {},
   "outputs": [],
   "source": [
    "c.execute(\"CREATE TABLE processed_committees AS \"\n",
    "          \"(SELECT comm_id, \"\n",
    "          \" CASE WHEN (name = '') \"\n",
    "          \"      THEN NULL \"\n",
    "          \"      ELSE LOWER(CONCAT_WS(' ', name)) \"\n",
    "          \" END AS name, \"  \n",
    "           \" CASE WHEN (address_1 = '' AND address_2 = '') \"\n",
    "          \"      THEN NULL \"\n",
    "          \"      ELSE LOWER(CONCAT_WS(' ', address_1, address_2)) \"\n",
    "          \" END AS address, \" \n",
    "          \" LOWER(city) AS city, \"\n",
    "          \" LOWER(state) AS state, \"\n",
    "          \" LOWER(zip) AS zip \"\n",
    "          \" FROM committees)\")"
   ]
  },
  {
   "cell_type": "code",
   "execution_count": null,
   "metadata": {},
   "outputs": [],
   "source": [
    "c.close()\n",
    "conn.close()\n",
    "print('Done.')"
   ]
  },
  {
   "cell_type": "code",
   "execution_count": null,
   "metadata": {},
   "outputs": [],
   "source": []
  }
 ],
 "metadata": {
  "kernelspec": {
   "display_name": "Python 3",
   "language": "python",
   "name": "python3"
  },
  "language_info": {
   "codemirror_mode": {
    "name": "ipython",
    "version": 3
   },
   "file_extension": ".py",
   "mimetype": "text/x-python",
   "name": "python",
   "nbconvert_exporter": "python",
   "pygments_lexer": "ipython3",
   "version": "3.8.5"
  }
 },
 "nbformat": 4,
 "nbformat_minor": 4
}
